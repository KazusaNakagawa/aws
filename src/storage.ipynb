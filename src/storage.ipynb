{
 "cells": [
  {
   "cell_type": "code",
   "execution_count": 50,
   "id": "b9ff1fc9-59fb-4468-bc44-693e2b7155aa",
   "metadata": {},
   "outputs": [],
   "source": [
    "import os\n",
    "import sys\n",
    "\n",
    "import boto3\n",
    "\n",
    "from dotenv import load_dotenv \n",
    "\n",
    "import api.controllers.storage_controller"
   ]
  },
  {
   "cell_type": "markdown",
   "id": "8d42827d-ef42-4fda-b035-aa5263a7473a",
   "metadata": {},
   "source": [
    "## 環境設定呼び出し"
   ]
  },
  {
   "cell_type": "code",
   "execution_count": 51,
   "id": "9c9374b1-77f5-419c-bc0e-90e9010dda18",
   "metadata": {},
   "outputs": [],
   "source": [
    "load_dotenv()\n",
    "region = os.environ.get('AWS_REGION')\n",
    "s3 = boto3.client('s3')\n",
    "bucket_name = 'testbucket-yyyymmdd'"
   ]
  },
  {
   "cell_type": "markdown",
   "id": "68a867ae-3975-495c-984e-40b625848f09",
   "metadata": {},
   "source": [
    "## Bucketを作成"
   ]
  },
  {
   "cell_type": "code",
   "execution_count": 52,
   "id": "91e1c56e-47b7-4ed5-815b-4ecabe35e110",
   "metadata": {},
   "outputs": [],
   "source": [
    "def create_bucket(bucket_name, region) -> dict:\n",
    "    \"\"\" Create Bucket\n",
    "    \n",
    "    bucket_name(str): choice bucket name\n",
    "    region(str): Region code\n",
    "    \n",
    "    \"\"\"\n",
    "    response = s3.create_bucket(\n",
    "        Bucket=bucket_name,\n",
    "        CreateBucketConfiguration={'LocationConstraint': region}\n",
    "    )\n",
    "    return response"
   ]
  },
  {
   "cell_type": "code",
   "execution_count": 53,
   "id": "f56c9e6c-6f01-43c3-bbdb-36007722e392",
   "metadata": {},
   "outputs": [],
   "source": [
    "# 実行処理\n",
    "# create_bucket(bucket_name=bucket_name, region=region)"
   ]
  },
  {
   "cell_type": "markdown",
   "id": "4065fd44-6988-4299-b850-3946582c825e",
   "metadata": {},
   "source": [
    "##  実行テスト　Storage management"
   ]
  },
  {
   "cell_type": "code",
   "execution_count": 54,
   "id": "cbea844a-a401-4fd8-985a-69385b677bd3",
   "metadata": {},
   "outputs": [
    {
     "name": "stdout",
     "output_type": "stream",
     "text": [
      "No Buckets\n"
     ]
    }
   ],
   "source": [
    "api.controllers.storage_controller.s3_storage_management()"
   ]
  },
  {
   "cell_type": "code",
   "execution_count": null,
   "id": "88b350ad-cc0b-41bb-a55d-fa09314a9a76",
   "metadata": {},
   "outputs": [],
   "source": []
  }
 ],
 "metadata": {
  "kernelspec": {
   "display_name": "Python 3",
   "language": "python",
   "name": "python3"
  },
  "language_info": {
   "codemirror_mode": {
    "name": "ipython",
    "version": 3
   },
   "file_extension": ".py",
   "mimetype": "text/x-python",
   "name": "python",
   "nbconvert_exporter": "python",
   "pygments_lexer": "ipython3",
   "version": "3.8.8"
  }
 },
 "nbformat": 4,
 "nbformat_minor": 5
}
