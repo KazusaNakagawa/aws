{
 "cells": [
  {
   "cell_type": "code",
   "execution_count": 1,
   "id": "b9ff1fc9-59fb-4468-bc44-693e2b7155aa",
   "metadata": {},
   "outputs": [],
   "source": [
    "import os\n",
    "import boto3"
   ]
  },
  {
   "cell_type": "code",
   "execution_count": 2,
   "id": "ce8e0ff8-d28c-4ef7-8503-80a60064176e",
   "metadata": {},
   "outputs": [],
   "source": [
    "s3 = boto3.client('s3')"
   ]
  },
  {
   "cell_type": "code",
   "execution_count": 3,
   "id": "f1dc1da5-c42d-4773-a44c-e1f6214221b3",
   "metadata": {},
   "outputs": [],
   "source": [
    "bucket_name = 'testbucket-yyyymmdd'\n",
    "region = 'ap-northeast-1'"
   ]
  },
  {
   "cell_type": "code",
   "execution_count": 20,
   "id": "91e1c56e-47b7-4ed5-815b-4ecabe35e110",
   "metadata": {},
   "outputs": [],
   "source": [
    "# s3.create_bucket(\n",
    "#     Bucket=bucket_name,\n",
    "#     CreateBucketConfiguration={'LocationConstraint': region}\n",
    "# )"
   ]
  },
  {
   "cell_type": "code",
   "execution_count": 16,
   "id": "f56c9e6c-6f01-43c3-bbdb-36007722e392",
   "metadata": {},
   "outputs": [],
   "source": [
    "import api.controllers.storage_controller"
   ]
  },
  {
   "cell_type": "code",
   "execution_count": 24,
   "id": "cbea844a-a401-4fd8-985a-69385b677bd3",
   "metadata": {},
   "outputs": [
    {
     "name": "stdout",
     "output_type": "stream",
     "text": [
      "No Buckets\n"
     ]
    }
   ],
   "source": [
    "api.controllers.storage_controller.s3_storage_management()"
   ]
  },
  {
   "cell_type": "code",
   "execution_count": null,
   "id": "9c9374b1-77f5-419c-bc0e-90e9010dda18",
   "metadata": {},
   "outputs": [],
   "source": []
  }
 ],
 "metadata": {
  "kernelspec": {
   "display_name": "Python 3",
   "language": "python",
   "name": "python3"
  },
  "language_info": {
   "codemirror_mode": {
    "name": "ipython",
    "version": 3
   },
   "file_extension": ".py",
   "mimetype": "text/x-python",
   "name": "python",
   "nbconvert_exporter": "python",
   "pygments_lexer": "ipython3",
   "version": "3.8.8"
  }
 },
 "nbformat": 4,
 "nbformat_minor": 5
}
