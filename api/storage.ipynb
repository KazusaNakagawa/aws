{
 "cells": [
  {
   "cell_type": "code",
   "execution_count": 11,
   "id": "b9ff1fc9-59fb-4468-bc44-693e2b7155aa",
   "metadata": {},
   "outputs": [],
   "source": [
    "import os\n",
    "import boto3"
   ]
  },
  {
   "cell_type": "code",
   "execution_count": 16,
   "id": "ce8e0ff8-d28c-4ef7-8503-80a60064176e",
   "metadata": {},
   "outputs": [],
   "source": [
    "s3 = boto3.client('s3')"
   ]
  },
  {
   "cell_type": "code",
   "execution_count": 13,
   "id": "f1dc1da5-c42d-4773-a44c-e1f6214221b3",
   "metadata": {},
   "outputs": [],
   "source": [
    "bucket_name = 'testbucket-yyyymmdd'\n",
    "region = 'ap-northeast-1'"
   ]
  },
  {
   "cell_type": "code",
   "execution_count": 15,
   "id": "91e1c56e-47b7-4ed5-815b-4ecabe35e110",
   "metadata": {},
   "outputs": [],
   "source": [
    "# s3.create_bucket(\n",
    "#     Bucket=bucket_name,\n",
    "#     CreateBucketConfiguration={'LocationConstraint': region}\n",
    "# )"
   ]
  },
  {
   "cell_type": "code",
   "execution_count": null,
   "id": "de37d98b-de6d-4b09-871a-893dd059fc42",
   "metadata": {},
   "outputs": [],
   "source": []
  }
 ],
 "metadata": {
  "kernelspec": {
   "display_name": "Python 3",
   "language": "python",
   "name": "python3"
  },
  "language_info": {
   "codemirror_mode": {
    "name": "ipython",
    "version": 3
   },
   "file_extension": ".py",
   "mimetype": "text/x-python",
   "name": "python",
   "nbconvert_exporter": "python",
   "pygments_lexer": "ipython3",
   "version": "3.8.8"
  }
 },
 "nbformat": 4,
 "nbformat_minor": 5
}
